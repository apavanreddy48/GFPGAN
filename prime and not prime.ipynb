{
  "nbformat": 4,
  "nbformat_minor": 0,
  "metadata": {
    "colab": {
      "name": "Untitled3.ipynb",
      "provenance": [],
      "authorship_tag": "ABX9TyPDx6MvXUZW9bwR1YuZlVPC",
      "include_colab_link": true
    },
    "kernelspec": {
      "name": "python3",
      "display_name": "Python 3"
    },
    "language_info": {
      "name": "python"
    }
  },
  "cells": [
    {
      "cell_type": "markdown",
      "metadata": {
        "id": "view-in-github",
        "colab_type": "text"
      },
      "source": [
        "<a href=\"https://colab.research.google.com/github/apavanreddy48/GFPGAN/blob/master/prime%20and%20not%20prime.ipynb\" target=\"_parent\"><img src=\"https://colab.research.google.com/assets/colab-badge.svg\" alt=\"Open In Colab\"/></a>"
      ]
    },
    {
      "cell_type": "code",
      "metadata": {
        "colab": {
          "base_uri": "https://localhost:8080/"
        },
        "id": "e6VqYaoE2hYS",
        "outputId": "81d1c6af-3fd9-4f0e-bec2-659d472451a5"
      },
      "source": [
        "n=int(input(\"Enter a number:\"))   # 2\n",
        "if (n<=1):\n",
        "\tprint(\"{} invalid input\".format(n))\n",
        "else:\n",
        "\tfound=False\n",
        "\tfor i in range(2,n):\n",
        "\t\tif(n%i==0):\n",
        "\t\t\tfound=True\n",
        "\t\t\tbreak\n",
        "\t\n",
        "\tif(found==True):\n",
        "\t\tprint(\"{} is not a prime number:\".format(n))\n",
        "\telse:\n",
        "\t\tprint(\"{} is  a prime number:\".format(n))\n",
        "\n",
        "\n",
        "    "
      ],
      "execution_count": 21,
      "outputs": [
        {
          "output_type": "stream",
          "name": "stdout",
          "text": [
            "Enter a number:5\n",
            "5 is  a prime number:\n"
          ]
        }
      ]
    }
  ]
}