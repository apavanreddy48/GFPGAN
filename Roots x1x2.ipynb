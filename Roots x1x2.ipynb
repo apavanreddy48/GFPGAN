{
  "nbformat": 4,
  "nbformat_minor": 0,
  "metadata": {
    "colab": {
      "name": "Untitled2.ipynb",
      "provenance": [],
      "authorship_tag": "ABX9TyOQ0NKPtdrTyNNHcNVHnvEY",
      "include_colab_link": true
    },
    "kernelspec": {
      "name": "python3",
      "display_name": "Python 3"
    },
    "language_info": {
      "name": "python"
    }
  },
  "cells": [
    {
      "cell_type": "markdown",
      "metadata": {
        "id": "view-in-github",
        "colab_type": "text"
      },
      "source": [
        "<a href=\"https://colab.research.google.com/github/apavanreddy48/GFPGAN/blob/master/Roots%20x1x2.ipynb\" target=\"_parent\"><img src=\"https://colab.research.google.com/assets/colab-badge.svg\" alt=\"Open In Colab\"/></a>"
      ]
    },
    {
      "cell_type": "code",
      "metadata": {
        "colab": {
          "base_uri": "https://localhost:8080/"
        },
        "id": "53kgQIzZv01V",
        "outputId": "9b71c528-2a52-4735-9af1-888a0cd0a18c"
      },
      "source": [
        "a=int(input(\"enter the value of a: \"))\n",
        "b=int(input(\"enter the value of b: \"))\n",
        "c=int(input(\"enter the value of c: \"))\n",
        "X1=(-b+(b**2-4*a*c)**0.5)/(2*a)\n",
        "X2=(-b-(b**2-4*a*c)**0.5)/(2*a)\n",
        "print(\"Root1: \",X1)\n",
        "print(\"Root2: \",X2)"
      ],
      "execution_count": 2,
      "outputs": [
        {
          "output_type": "stream",
          "name": "stdout",
          "text": [
            "enter the value of a: 4\n",
            "enter the value of b: 5\n",
            "enter the value of c: 6\n",
            "Root1:  (-0.6249999999999999+1.0532687216470449j)\n",
            "Root2:  (-0.6250000000000001-1.0532687216470449j)\n"
          ]
        }
      ]
    }
  ]
}